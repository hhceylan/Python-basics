{
 "cells": [
  {
   "cell_type": "code",
   "execution_count": 1,
   "id": "e6691c1e",
   "metadata": {},
   "outputs": [
    {
     "name": "stdout",
     "output_type": "stream",
     "text": [
      "Enter a whole number to see the list of the prime numbers from 1 to the number that you entered: 100\n",
      "[2, 3, 5, 7, 11, 13, 17, 19, 23, 29, 31, 37, 41, 43, 47, 53, 59, 61, 67, 71, 73, 79, 83, 89, 97]\n"
     ]
    }
   ],
   "source": [
    "prime = list()\n",
    "\n",
    "x = int(input(\"Enter a whole number to see the list of the prime numbers from 1 to the number that you entered: \"))\n",
    "\n",
    "for n in range(2, x+1):\n",
    "\n",
    "    factor = 0\n",
    "\n",
    "    for i in range(2, n) :\n",
    "\n",
    "        if n % i == 0 :\n",
    "\n",
    "            factor += i\n",
    "\n",
    "    if factor == 0 :\n",
    "\n",
    "        prime.append(n)\n",
    "\n",
    "print(prime)"
   ]
  }
 ],
 "metadata": {
  "kernelspec": {
   "display_name": "Python 3 (ipykernel)",
   "language": "python",
   "name": "python3"
  },
  "language_info": {
   "codemirror_mode": {
    "name": "ipython",
    "version": 3
   },
   "file_extension": ".py",
   "mimetype": "text/x-python",
   "name": "python",
   "nbconvert_exporter": "python",
   "pygments_lexer": "ipython3",
   "version": "3.9.12"
  }
 },
 "nbformat": 4,
 "nbformat_minor": 5
}
