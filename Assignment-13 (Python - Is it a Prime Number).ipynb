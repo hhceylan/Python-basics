{
 "cells": [
  {
   "cell_type": "code",
   "execution_count": null,
   "id": "36cd66a1",
   "metadata": {},
   "outputs": [],
   "source": [
    "n = int(input(\"Enter a number to check if it is a prime number: \"))\n",
    "\n",
    "factor = 0  # factor is a number which can divide another number evenly. \n",
    "\n",
    "while n > 1 :\n",
    "    for i in range(2, n) :\n",
    "        if n % i == 0 :\n",
    "            total += i\n",
    "    if factor == 0 :\n",
    "        print(f\"{n} is a prime number.\")\n",
    "        break\n",
    "    else :\n",
    "        print(f\"{n} is NOT a prime number.\")\n",
    "        break\n",
    "else :\n",
    "    print(f\"{n} is NOT a prime number.\")"
   ]
  }
 ],
 "metadata": {
  "kernelspec": {
   "display_name": "Python 3 (ipykernel)",
   "language": "python",
   "name": "python3"
  },
  "language_info": {
   "codemirror_mode": {
    "name": "ipython",
    "version": 3
   },
   "file_extension": ".py",
   "mimetype": "text/x-python",
   "name": "python",
   "nbconvert_exporter": "python",
   "pygments_lexer": "ipython3",
   "version": "3.9.12"
  }
 },
 "nbformat": 4,
 "nbformat_minor": 5
}
