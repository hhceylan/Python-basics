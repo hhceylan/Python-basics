{
 "cells": [
  {
   "cell_type": "code",
   "execution_count": 1,
   "id": "bcb8d421",
   "metadata": {},
   "outputs": [
    {
     "name": "stdout",
     "output_type": "stream",
     "text": [
      "Enter your first name: Hasan\n",
      "Enter your first name to see the password: James\n",
      "Hello James! See you later.\n"
     ]
    }
   ],
   "source": [
    "name = input(\"Enter your first name: \")\n",
    "\n",
    "test = input(\"Enter your first name to see the password: \")\n",
    "\n",
    "if test.split() == name.split():\n",
    "    print(f\"Hello {name}! The password is W@12\")\n",
    "else:\n",
    "    print(f\"Hello {test}! See you later.\")"
   ]
  },
  {
   "cell_type": "code",
   "execution_count": null,
   "id": "620017c0",
   "metadata": {},
   "outputs": [],
   "source": []
  }
 ],
 "metadata": {
  "kernelspec": {
   "display_name": "Python 3 (ipykernel)",
   "language": "python",
   "name": "python3"
  },
  "language_info": {
   "codemirror_mode": {
    "name": "ipython",
    "version": 3
   },
   "file_extension": ".py",
   "mimetype": "text/x-python",
   "name": "python",
   "nbconvert_exporter": "python",
   "pygments_lexer": "ipython3",
   "version": "3.9.12"
  }
 },
 "nbformat": 4,
 "nbformat_minor": 5
}
