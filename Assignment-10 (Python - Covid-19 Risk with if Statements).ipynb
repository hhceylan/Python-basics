{
 "cells": [
  {
   "cell_type": "code",
   "execution_count": 3,
   "id": "54bbfc29",
   "metadata": {},
   "outputs": [
    {
     "name": "stdout",
     "output_type": "stream",
     "text": [
      "Are you a cigarette addict older than 75 years old? (Please enter: Yes or No): no\n",
      "Do you have a severe chronic disease? (Please enter: Yes or No):                  NO\n",
      "Is your immune system too weak? (Please enter: Yes or No):                                 nO\n",
      "You are not in risky group\n"
     ]
    }
   ],
   "source": [
    "age = input(\"Are you a cigarette addict older than 75 years old? (Please enter: Yes or No): \")\n",
    "chronic = input(\"Do you have a severe chronic disease? (Please enter: Yes or No): \")\n",
    "immune = input(\"Is your immune system too weak? (Please enter: Yes or No): \")\n",
    "\n",
    "if age.strip().capitalize() == 'No' and chronic.strip().capitalize() == 'No' and immune.strip().capitalize() == 'No':\n",
    "    print(\"You are not in risky group\")\n",
    "\n",
    "else:\n",
    "    print(\"You are in risky group\")  # bu sefer oldu galiba"
   ]
  },
  {
   "cell_type": "code",
   "execution_count": null,
   "id": "5c4afede",
   "metadata": {},
   "outputs": [],
   "source": []
  }
 ],
 "metadata": {
  "kernelspec": {
   "display_name": "Python 3 (ipykernel)",
   "language": "python",
   "name": "python3"
  },
  "language_info": {
   "codemirror_mode": {
    "name": "ipython",
    "version": 3
   },
   "file_extension": ".py",
   "mimetype": "text/x-python",
   "name": "python",
   "nbconvert_exporter": "python",
   "pygments_lexer": "ipython3",
   "version": "3.9.12"
  }
 },
 "nbformat": 4,
 "nbformat_minor": 5
}
