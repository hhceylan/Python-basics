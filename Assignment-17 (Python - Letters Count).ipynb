{
 "cells": [
  {
   "cell_type": "code",
   "execution_count": 7,
   "id": "49e46b30",
   "metadata": {},
   "outputs": [
    {
     "name": "stdout",
     "output_type": "stream",
     "text": [
      "Enter a sentence to see the number of its each letter/chars: Coffee please!!!!!!!!!\n",
      "{'C': 1, 'o': 1, 'f': 2, 'e': 4, ' ': 1, 'p': 1, 'l': 1, 'a': 1, 's': 1, '!': 9}\n"
     ]
    }
   ],
   "source": [
    "sentence = input(\"Enter a sentence to see the number of its each letter/chars: \")\n",
    "\n",
    "result = dict((i, sentence.count(i)) for i in sentence)\n",
    "\n",
    "print(result)"
   ]
  }
 ],
 "metadata": {
  "kernelspec": {
   "display_name": "Python 3 (ipykernel)",
   "language": "python",
   "name": "python3"
  },
  "language_info": {
   "codemirror_mode": {
    "name": "ipython",
    "version": 3
   },
   "file_extension": ".py",
   "mimetype": "text/x-python",
   "name": "python",
   "nbconvert_exporter": "python",
   "pygments_lexer": "ipython3",
   "version": "3.9.12"
  }
 },
 "nbformat": 4,
 "nbformat_minor": 5
}
