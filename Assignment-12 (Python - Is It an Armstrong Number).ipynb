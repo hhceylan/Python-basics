{
 "cells": [
  {
   "cell_type": "code",
   "execution_count": 1,
   "id": "b242c7a8",
   "metadata": {},
   "outputs": [
    {
     "name": "stdout",
     "output_type": "stream",
     "text": [
      "Enter a number to check if it's an n-Armstrong number: 371\n",
      "371 is an n-Armstrong number.\n"
     ]
    }
   ],
   "source": [
    "n = int(input(\"Enter a number to check if it's an n-Armstrong number: \"))\n",
    "total = 0\n",
    "while n >= 0 :\n",
    "    for i in str(n):\n",
    "        total += int(i)**len(str(n))\n",
    "    if n == total:\n",
    "        print(f\"{n} is an n-Armstrong number.\")\n",
    "        break\n",
    "    else:\n",
    "        print(f\"{n} is NOT an n-Armstrong number.\")\n",
    "        break\n",
    "    print(total)\n",
    "else:\n",
    "    print(\"It is an invalid entry. Don't use non-numeric, float, or negative values!\")"
   ]
  },
  {
   "cell_type": "code",
   "execution_count": null,
   "id": "ba045f3b",
   "metadata": {},
   "outputs": [],
   "source": []
  }
 ],
 "metadata": {
  "kernelspec": {
   "display_name": "Python 3 (ipykernel)",
   "language": "python",
   "name": "python3"
  },
  "language_info": {
   "codemirror_mode": {
    "name": "ipython",
    "version": 3
   },
   "file_extension": ".py",
   "mimetype": "text/x-python",
   "name": "python",
   "nbconvert_exporter": "python",
   "pygments_lexer": "ipython3",
   "version": "3.9.12"
  }
 },
 "nbformat": 4,
 "nbformat_minor": 5
}
